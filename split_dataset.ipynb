{
 "cells": [
  {
   "cell_type": "code",
   "execution_count": 3,
   "metadata": {},
   "outputs": [],
   "source": [
    "import torch\n",
    "import torchvision\n",
    "import torch.nn as nn\n",
    "import torch.nn.functional as F\n",
    "import numpy as np\n",
    "import matplotlib.pyplot as plt\n",
    "import glob\n",
    "import random\n",
    "import tqdm\n",
    "from tqdm import tqdm, trange\n",
    "import shutil\n",
    "\n",
    "from pathlib import Path\n",
    "\n",
    "import ipdb\n",
    "\n",
    "import pikle as p"
   ]
  },
  {
   "cell_type": "code",
   "execution_count": 9,
   "metadata": {},
   "outputs": [
    {
     "data": {
      "text/plain": [
       "<function util.util.calculate_mean_std(dataset_loader)>"
      ]
     },
     "execution_count": 9,
     "metadata": {},
     "output_type": "execute_result"
    }
   ],
   "source": [
    "from data import *\n",
    "from util import *\n",
    "dataset = 'chairs'\n",
    "srn_base_train = f'/mnt/lustre/yslan/Repo/NVS/Projects/volume_rendering/srn_dataset/{dataset}'\n"
   ]
  },
  {
   "cell_type": "code",
   "execution_count": 84,
   "metadata": {},
   "outputs": [],
   "source": [
    "img = train_test[0]['images'][0]"
   ]
  },
  {
   "cell_type": "code",
   "execution_count": 85,
   "metadata": {},
   "outputs": [
    {
     "data": {
      "text/plain": [
       "<matplotlib.image.AxesImage at 0x7f2d61829490>"
      ]
     },
     "execution_count": 85,
     "metadata": {},
     "output_type": "execute_result"
    },
    {
     "data": {
      "image/png": "[encoded data removed]",
      "text/plain": [
       "<Figure size 432x288 with 1 Axes>"
      ]
     },
     "metadata": {
      "needs_background": "light"
     },
     "output_type": "display_data"
    }
   ],
   "source": [
    "plt.imshow(img)"
   ]
  },
  {
   "cell_type": "code",
   "execution_count": 10,
   "metadata": {},
   "outputs": [
    {
     "data": {
      "text/plain": [
       "115300"
      ]
     },
     "execution_count": 10,
     "metadata": {},
     "output_type": "execute_result"
    }
   ],
   "source": [
    "from torchvision import datasets, transforms\n",
    "\n",
    "dst_path_v0='/mnt/lustre/yslan/Repo/NVS/Projects/volume_rendering/srn_dataset/{}_pool/'.format(dataset)\n",
    "\n",
    "data_transform = transforms.Compose(\n",
    "    [\n",
    "        # transforms.RandomSizedCrop(224),\n",
    "        # transforms.RandomHorizontalFlip(),\n",
    "        transforms.ToTensor(),\n",
    "        transforms.Normalize(\n",
    "            mean=[0.9084, 0.9045, 0.9019], std=[0.2319, 0.2415, 0.2483] # chairs\n",
    "#             mean = [0.9052, 0.8945, 0.8894], std=[0.2232, 0.2390, 0.2472] # cars\n",
    "        ),\n",
    "    ]\n",
    ")\n",
    "\n",
    "external_dataset = datasets.ImageFolder(root=dst_path, transform=data_transform)\n",
    "len(external_dataset)"
   ]
  },
  {
   "cell_type": "code",
   "execution_count": 107,
   "metadata": {},
   "outputs": [],
   "source": [
    "dataset_loader = torch.utils.data.DataLoader(external_dataset, batch_size=32, shuffle=False, num_workers=4)"
   ]
  },
  {
   "cell_type": "code",
   "execution_count": 12,
   "metadata": {},
   "outputs": [],
   "source": [
    "memory_bank = torch.load(f'/mnt/lustre/yslan/Repo/NVS/Projects/volume_rendering/srn_dataset/{dataset}_pool_memory_bank.pt')"
   ]
  },
  {
   "cell_type": "code",
   "execution_count": 16,
   "metadata": {},
   "outputs": [],
   "source": [
    "rand_idxs = np.random.randint(0,len(external_dataset), 10000)"
   ]
  },
  {
   "cell_type": "code",
   "execution_count": 26,
   "metadata": {},
   "outputs": [],
   "source": [
    "dst_path=f'/mnt/lustre/yslan/Repo/NVS/Projects/volume_rendering/srn_dataset/{dataset}_pool_sub/100'\n",
    "os.mkdir(dst_path)"
   ]
  },
  {
   "cell_type": "code",
   "execution_count": 92,
   "metadata": {},
   "outputs": [],
   "source": [
    "for dsize in [100,200,500,1000,2000,5000,10000]:\n",
    "    d_path = Path(f'/mnt/lustre/yslan/Repo/NVS/Projects/volume_rendering/srn_dataset/{dataset}_pool_sub/{dsize}')\n",
    "    d_path.mkdir(parents=True, exist_ok=True)\n",
    "    \n",
    "#     torch.save(memory_bank[rand_idxs[:dsize]], d_path/ 'memory_bank.pt')\n",
    "#     torch.save(\n",
    "#         torch.stack([external_dataset[i][0] for i in rand_idxs[:dsize]]), d_path/'imgs.pt')\n",
    "#     np.save(f'/mnt/lustre/yslan/Repo/NVS/Projects/volume_rendering/srn_dataset/{dataset}_pool_sub/{dsize}/idx.npy', rand_idxs[:dsize])\n",
    "    img_paths = [external_dataset.imgs[i][0] for i in rand_idxs[:dsize]]\n",
    "    with open(f'/mnt/lustre/yslan/Repo/NVS/Projects/volume_rendering/srn_dataset/{dataset}_pool_sub/{dsize}/paths.txt', 'w') as f:\n",
    "        for item in img_paths:\n",
    "            f.write(\"%s\\n\" % item)\n",
    "    "
   ]
  },
  {
   "cell_type": "code",
   "execution_count": 94,
   "metadata": {},
   "outputs": [],
   "source": [
    "with open(f'/mnt/lustre/yslan/Repo/NVS/Projects/volume_rendering/srn_dataset/{dataset}_pool_sub/{dsize}/paths.txt', 'r') as f:\n",
    "    paths = f.readlines()"
   ]
  },
  {
   "cell_type": "code",
   "execution_count": null,
   "metadata": {},
   "outputs": [],
   "source": []
  },
  {
   "cell_type": "code",
   "execution_count": 83,
   "metadata": {},
   "outputs": [],
   "source": [
    "ordered_sim = torch.load('debug/ordered_sim_1w.pt').numpy()"
   ]
  },
  {
   "cell_type": "code",
   "execution_count": 86,
   "metadata": {},
   "outputs": [
    {
     "name": "stderr",
     "output_type": "stream",
     "text": [
      "<ipython-input-86-144673eb37e6>:8: FutureWarning: Using a non-tuple sequence for multidimensional indexing is deprecated; use `arr[tuple(seq)]` instead of `arr[seq]`. In the future this will be interpreted as an array index, `arr[np.array(seq)]`, which will result either in an error or a different result.\n",
      "  np.save(f'/mnt/lustre/yslan/Repo/NVS/Projects/volume_rendering/srn_dataset/{dataset}_pool_sub/{dsize}/idx.npy', rand_idxs[[ordered_sim[:dsize]]])\n"
     ]
    }
   ],
   "source": [
    "for dsize in [100,200,500,1000,2000,5000]:\n",
    "    d_path = Path(f'/mnt/lustre/yslan/Repo/NVS/Projects/volume_rendering/srn_dataset/{dataset}_pool_sub/{dsize}_sim')\n",
    "    d_path.mkdir(parents=True, exist_ok=True)\n",
    "    \n",
    "#     torch.save(memory_bank[rand_idxs[:dsize]], d_path/ 'memory_bank.pt')\n",
    "    torch.save(\n",
    "        torch.stack([external_dataset[i][0] for i in rand_idxs[ordered_sim[:dsize]]]), d_path/'imgs.pt')\n",
    "    np.save(f'/mnt/lustre/yslan/Repo/NVS/Projects/volume_rendering/srn_dataset/{dataset}_pool_sub/{dsize}/idx.npy', rand_idxs[[ordered_sim[:dsize]]])\n",
    "    "
   ]
  },
  {
   "cell_type": "code",
   "execution_count": 88,
   "metadata": {},
   "outputs": [
    {
     "data": {
      "text/plain": [
       "array([113584,  64327,  13100, ...,  46885,  73896,  64152])"
      ]
     },
     "execution_count": 88,
     "metadata": {},
     "output_type": "execute_result"
    }
   ],
   "source": [
    "rand_idxs[ordered_sim]"
   ]
  },
  {
   "cell_type": "markdown",
   "metadata": {},
   "source": [
    "[external_dataset[i] for i in rand_idxs[:10]]"
   ]
  },
  {
   "cell_type": "code",
   "execution_count": 52,
   "metadata": {},
   "outputs": [],
   "source": [
    "from torch.utils.data import DataLoader,  TensorDataset"
   ]
  },
  {
   "cell_type": "code",
   "execution_count": 68,
   "metadata": {},
   "outputs": [],
   "source": [
    "imgs_tensor = torch.load()"
   ]
  },
  {
   "cell_type": "code",
   "execution_count": 70,
   "metadata": {},
   "outputs": [
    {
     "data": {
      "text/plain": [
       "PosixPath('/mnt/lustre/yslan/Repo/NVS/Projects/volume_rendering/srn_dataset/chairs_pool_sub/500')"
      ]
     },
     "execution_count": 70,
     "metadata": {},
     "output_type": "execute_result"
    }
   ],
   "source": [
    "Path(f'/mnt/lustre/yslan/Repo/NVS/Projects/volume_rendering/srn_dataset/{dataset}_pool_sub/{500}/imgs.pt').parent"
   ]
  },
  {
   "cell_type": "code",
   "execution_count": 55,
   "metadata": {},
   "outputs": [
    {
     "data": {
      "text/plain": [
       "torch.Size([500, 3, 128, 128])"
      ]
     },
     "execution_count": 55,
     "metadata": {},
     "output_type": "execute_result"
    }
   ],
   "source": [
    "imgs_tensor.shape"
   ]
  },
  {
   "cell_type": "code",
   "execution_count": 58,
   "metadata": {},
   "outputs": [],
   "source": [
    "loader = DataLoader(TensorDataset(imgs_tensor), batch_size=32, shuffle=False, num_workers=4)"
   ]
  },
  {
   "cell_type": "code",
   "execution_count": 61,
   "metadata": {},
   "outputs": [],
   "source": [
    "batch = next(iter(loader))"
   ]
  },
  {
   "cell_type": "code",
   "execution_count": 73,
   "metadata": {},
   "outputs": [
    {
     "data": {
      "text/plain": [
       "'11'"
      ]
     },
     "execution_count": 73,
     "metadata": {},
     "output_type": "execute_result"
    }
   ],
   "source": [
    "f'{1 if True else 2}1'"
   ]
  },
  {
   "cell_type": "code",
   "execution_count": 74,
   "metadata": {},
   "outputs": [
    {
     "name": "stderr",
     "output_type": "stream",
     "text": [
      "Bar desc (file 99): 100%|██████████| 100/100 [00:01<00:00, 86.79it/s]\n"
     ]
    }
   ],
   "source": [
    "from tqdm import trange\n",
    "from time import sleep\n",
    "\n",
    "t = trange(100, desc='Bar desc', leave=True)\n",
    "for i in t:\n",
    "    t.set_description(\"Bar desc (file %i)\" % i)\n",
    "    t.refresh() # to show immediately the update\n",
    "    sleep(0.01)"
   ]
  },
  {
   "cell_type": "code",
   "execution_count": null,
   "metadata": {},
   "outputs": [],
   "source": []
  }
 ],
 "metadata": {
  "kernelspec": {
   "display_name": "Python 3.8.3 64-bit ('base': conda)",
   "language": "python",
   "name": "python38364bitbaseconda05fe16f9363d487dbdc6b533b6b86ac4"
  },
  "language_info": {
   "codemirror_mode": {
    "name": "ipython",
    "version": 3
   },
   "file_extension": ".py",
   "mimetype": "text/x-python",
   "name": "python",
   "nbconvert_exporter": "python",
   "pygments_lexer": "ipython3",
   "version": "3.8.3"
  }
 },
 "nbformat": 4,
 "nbformat_minor": 4
}
