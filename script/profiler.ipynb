{
 "cells": [
  {
   "cell_type": "code",
   "execution_count": 1,
   "metadata": {
    "collapsed": false,
    "jupyter": {
     "outputs_hidden": false
    }
   },
   "outputs": [],
   "source": [
    "%matplotlib inline"
   ]
  },
  {
   "cell_type": "markdown",
   "metadata": {},
   "source": [
    "\n",
    "PyTorch Profiler\n",
    "====================================\n",
    "This recipe explains how to use PyTorch profiler and measure the time and\n",
    "memory consumption of the model's operators.\n",
    "\n",
    "Introduction\n",
    "------------\n",
    "PyTorch includes a simple profiler API that is useful when user needs\n",
    "to determine the most expensive operators in the model.\n",
    "\n",
    "In this recipe, we will use a simple Resnet model to demonstrate how to\n",
    "use profiler to analyze model performance.\n",
    "\n",
    "Setup\n",
    "-----\n",
    "To install ``torch`` and ``torchvision`` use the following command:\n",
    "\n",
    "::\n",
    "\n",
    "   pip install torch torchvision\n",
    "\n",
    "\n",
    "\n"
   ]
  },
  {
   "cell_type": "markdown",
   "metadata": {},
   "source": [
    "Steps\n",
    "-----\n",
    "\n",
    "1. Import all necessary libraries\n",
    "2. Instantiate a simple Resnet model\n",
    "3. Use profiler to analyze execution time\n",
    "4. Use profiler to analyze memory consumption\n",
    "5. Using tracing functionality\n",
    "\n",
    "1. Import all necessary libraries\n",
    "~~~~~~~~~~~~~~~~~~~~~~~~~~~~~~~~~~~~~~~~~~~~~~~~~~~~~~\n",
    "\n",
    "In this recipe we will use ``torch``, ``torchvision.models``\n",
    "and ``profiler`` modules:\n",
    "\n",
    "\n"
   ]
  },
  {
   "cell_type": "code",
   "execution_count": 2,
   "metadata": {
    "collapsed": false,
    "jupyter": {
     "outputs_hidden": false
    }
   },
   "outputs": [],
   "source": [
    "import torch\n",
    "import torchvision.models as models\n",
    "import torch.autograd.profiler as profiler"
   ]
  },
  {
   "cell_type": "markdown",
   "metadata": {},
   "source": [
    "2. Instantiate a simple Resnet model\n",
    "~~~~~~~~~~~~~~~~~~~~~~~~~~~~~~~~~~~~~~~~~~~~~~\n",
    "\n",
    "Let's create an instance of a Resnet model and prepare an input\n",
    "for it:\n",
    "\n",
    "\n"
   ]
  },
  {
   "cell_type": "code",
   "execution_count": 24,
   "metadata": {
    "collapsed": false,
    "jupyter": {
     "outputs_hidden": false
    }
   },
   "outputs": [],
   "source": [
    "model = models.resnet34()\n",
    "inputs = torch.randn(5, 3, 224, 224)"
   ]
  },
  {
   "cell_type": "markdown",
   "metadata": {},
   "source": [
    "3. Use profiler to analyze execution time\n",
    "~~~~~~~~~~~~~~~~~~~~~~~~~~~~~~~~~~~~~~~~~~~~~~~~~~~~~~~~~~~~~~\n",
    "\n",
    "PyTorch profiler is enabled through the context manager and accepts\n",
    "a number of parameters, some of the most useful are:\n",
    "\n",
    "- ``record_shapes`` - whether to record shapes of the operator inputs;\n",
    "- ``profile_memory`` - whether to report amount of memory consumed by\n",
    "  model's Tensors;\n",
    "- ``use_cuda`` - whether to measure execution time of CUDA kernels.\n",
    "\n",
    "Let's see how we can use profiler to analyze the execution time:\n",
    "\n"
   ]
  },
  {
   "cell_type": "code",
   "execution_count": 8,
   "metadata": {
    "collapsed": false,
    "jupyter": {
     "outputs_hidden": false
    }
   },
   "outputs": [],
   "source": [
    "with profiler.profile(record_shapes=True) as prof:\n",
    "    with profiler.record_function(\"model_inference\"):\n",
    "        model(inputs)"
   ]
  },
  {
   "cell_type": "markdown",
   "metadata": {},
   "source": [
    "Note that we can use ``record_function`` context manager to label\n",
    "arbitrary code ranges with user provided names\n",
    "(``model_inference`` is used as a label in the example above).\n",
    "Profiler allows one to check which operators were called during the\n",
    "execution of a code range wrapped with a profiler context manager.\n",
    "If multiple profiler ranges are active at the same time (e.g. in\n",
    "parallel PyTorch threads), each profiling context manager tracks only\n",
    "the operators of its corresponding range.\n",
    "Profiler also automatically profiles the async tasks launched\n",
    "with ``torch.jit._fork`` and (in case of a backward pass)\n",
    "the backward pass operators launched with ``backward()`` call.\n",
    "\n",
    "Let's print out the stats for the execution above:\n",
    "\n"
   ]
  },
  {
   "cell_type": "code",
   "execution_count": 10,
   "metadata": {
    "collapsed": false,
    "jupyter": {
     "outputs_hidden": false
    }
   },
   "outputs": [
    {
     "name": "stdout",
     "output_type": "stream",
     "text": [
      "---------------------------------  ------------  ------------  ------------  ------------  ------------  ------------  \n",
      "                             Name    Self CPU %      Self CPU   CPU total %     CPU total  CPU time avg    # of Calls  \n",
      "---------------------------------  ------------  ------------  ------------  ------------  ------------  ------------  \n",
      "                  model_inference         6.30%      15.866ms        94.24%     237.432ms     237.432ms             1  \n",
      "                     aten::conv2d         0.62%       1.570ms        49.80%     125.453ms       6.273ms            20  \n",
      "                aten::convolution         0.39%     991.613us        49.17%     123.882ms       6.194ms            20  \n",
      "               aten::_convolution         1.78%       4.474ms        48.78%     122.891ms       6.145ms            20  \n",
      "         aten::mkldnn_convolution        46.60%     117.406ms        46.83%     117.986ms       5.899ms            20  \n",
      "                 aten::max_pool2d         0.19%     467.506us        11.67%      29.404ms      29.404ms             1  \n",
      "    aten::max_pool2d_with_indices        11.38%      28.672ms        11.49%      28.936ms      28.936ms             1  \n",
      "                 aten::batch_norm         0.18%     455.280us        11.43%      28.801ms       1.440ms            20  \n",
      "     aten::_batch_norm_impl_index         0.64%       1.600ms        11.25%      28.345ms       1.417ms            20  \n",
      "          aten::native_batch_norm         6.38%      16.066ms        10.49%      26.431ms       1.322ms            20  \n",
      "---------------------------------  ------------  ------------  ------------  ------------  ------------  ------------  \n",
      "Self CPU time total: 251.936ms\n",
      "\n"
     ]
    }
   ],
   "source": [
    "print(prof.key_averages().table(sort_by=\"cpu_time_total\", row_limit=10))"
   ]
  },
  {
   "cell_type": "markdown",
   "metadata": {},
   "source": [
    "The output will look like (omitting some columns):\n",
    "\n"
   ]
  },
  {
   "cell_type": "code",
   "execution_count": null,
   "metadata": {
    "collapsed": false,
    "jupyter": {
     "outputs_hidden": false
    }
   },
   "outputs": [],
   "source": [
    "# -------------------------  --------------  ----------  ------------  ---------\n",
    "# Name                       Self CPU total   CPU total  CPU time avg  # Calls\n",
    "# -------------------------  --------------  ----------  ------------  ---------\n",
    "# model_inference            3.541ms         69.571ms    69.571ms      1\n",
    "# conv2d                     69.122us        40.556ms    2.028ms       20\n",
    "# convolution                79.100us        40.487ms    2.024ms       20\n",
    "# _convolution               349.533us       40.408ms    2.020ms       20\n",
    "# mkldnn_convolution         39.822ms        39.988ms    1.999ms       20\n",
    "# batch_norm                 105.559us       15.523ms    776.134us     20\n",
    "# _batch_norm_impl_index     103.697us       15.417ms    770.856us     20\n",
    "# native_batch_norm          9.387ms         15.249ms    762.471us     20\n",
    "# max_pool2d                 29.400us        7.200ms     7.200ms       1\n",
    "# max_pool2d_with_indices    7.154ms         7.170ms     7.170ms       1\n",
    "# -------------------------  --------------  ----------  ------------  ---------"
   ]
  },
  {
   "cell_type": "markdown",
   "metadata": {},
   "source": [
    "Here we see that, as expected, most of the time is spent in convolution (and specifically in ``mkldnn_convolution``\n",
    "for PyTorch compiled with MKL-DNN support).\n",
    "Note the difference between self cpu time and cpu time - operators can call other operators, self cpu time exludes time\n",
    "spent in children operator calls, while total cpu time includes it.\n",
    "\n",
    "To get a finer granularity of results and include operator input shapes, pass ``group_by_input_shape=True``:\n",
    "\n"
   ]
  },
  {
   "cell_type": "code",
   "execution_count": 6,
   "metadata": {
    "collapsed": false,
    "jupyter": {
     "outputs_hidden": false
    }
   },
   "outputs": [
    {
     "name": "stdout",
     "output_type": "stream",
     "text": [
      "---------------------------------  ------------  ------------  ------------  ------------  ------------  ------------  ---------------------------------------------  \n",
      "                             Name    Self CPU %      Self CPU   CPU total %     CPU total  CPU time avg    # of Calls                                   Input Shapes  \n",
      "---------------------------------  ------------  ------------  ------------  ------------  ------------  ------------  ---------------------------------------------  \n",
      "                  model_inference         2.81%       5.913ms        99.88%     210.409ms     210.409ms             1                                             []  \n",
      "                     aten::conv2d         0.21%     438.534us        37.57%      79.136ms      79.136ms             1  [[5, 3, 224, 224], [64, 3, 7, 7], [], [], [],  \n",
      "                aten::convolution         0.02%      49.902us        37.36%      78.697ms      78.697ms             1  [[5, 3, 224, 224], [64, 3, 7, 7], [], [], [],  \n",
      "               aten::_convolution         0.08%     158.734us        37.33%      78.647ms      78.647ms             1  [[5, 3, 224, 224], [64, 3, 7, 7], [], [], [],  \n",
      "         aten::mkldnn_convolution        37.22%      78.412ms        37.25%      78.474ms      78.474ms             1  [[5, 3, 224, 224], [64, 3, 7, 7], [], [], [],  \n",
      "                      aten::addmm        10.42%      21.958ms        10.76%      22.672ms      22.672ms             1        [[1000], [5, 512], [512, 1000], [], []]  \n",
      "                 aten::max_pool2d         0.01%      29.339us         8.69%      18.307ms      18.307ms             1        [[5, 64, 112, 112], [], [], [], [], []]  \n",
      "    aten::max_pool2d_with_indices         8.65%      18.218ms         8.68%      18.277ms      18.277ms             1        [[5, 64, 112, 112], [], [], [], [], []]  \n",
      "                     aten::conv2d         0.02%      39.748us         6.76%      14.235ms       3.559ms             4  [[5, 64, 56, 56], [64, 64, 3, 3], [], [], [],  \n",
      "                aten::convolution         0.02%      37.852us         6.74%      14.195ms       3.549ms             4  [[5, 64, 56, 56], [64, 64, 3, 3], [], [], [],  \n",
      "---------------------------------  ------------  ------------  ------------  ------------  ------------  ------------  ---------------------------------------------  \n",
      "Self CPU time total: 210.656ms\n",
      "\n"
     ]
    }
   ],
   "source": [
    "print(prof.key_averages(group_by_input_shape=True).table(sort_by=\"cpu_time_total\", row_limit=10))\n",
    "\n",
    "# (omitting some columns)\n",
    "# -------------------------  -----------  --------  -------------------------------------\n",
    "# Name                       CPU total    # Calls         Input Shapes\n",
    "# -------------------------  -----------  --------  -------------------------------------\n",
    "# model_inference            69.571ms     1         []\n",
    "# conv2d                     9.019ms      4         [[5, 64, 56, 56], [64, 64, 3, 3], []]\n",
    "# convolution                9.006ms      4         [[5, 64, 56, 56], [64, 64, 3, 3], []]\n",
    "# _convolution               8.982ms      4         [[5, 64, 56, 56], [64, 64, 3, 3], []]\n",
    "# mkldnn_convolution         8.894ms      4         [[5, 64, 56, 56], [64, 64, 3, 3], []]\n",
    "# max_pool2d                 7.200ms      1         [[5, 64, 112, 112]]\n",
    "# conv2d                     7.189ms      3         [[5, 512, 7, 7], [512, 512, 3, 3], []]\n",
    "# convolution                7.180ms      3         [[5, 512, 7, 7], [512, 512, 3, 3], []]\n",
    "# _convolution               7.171ms      3         [[5, 512, 7, 7], [512, 512, 3, 3], []]\n",
    "# max_pool2d_with_indices    7.170ms      1         [[5, 64, 112, 112]]\n",
    "# -------------------------  -----------  --------  --------------------------------------"
   ]
  },
  {
   "cell_type": "markdown",
   "metadata": {},
   "source": [
    "4. Use profiler to analyze memory consumption\n",
    "~~~~~~~~~~~~~~~~~~~~~~~~~~~~~~~~~~~~~~~~~~~~~~~~~~~~~~\n",
    "\n",
    "PyTorch profiler can also show the amount of memory (used by the model's tensors)\n",
    "that was allocated (or released) during the execution of the model's operators.\n",
    "In the output below, 'self' memory corresponds to the memory allocated (released)\n",
    "by the operator, excluding the children calls to the other operators.\n",
    "To enable memory profiling functionality pass ``profile_memory=True``.\n",
    "\n"
   ]
  },
  {
   "cell_type": "code",
   "execution_count": null,
   "metadata": {
    "collapsed": false,
    "jupyter": {
     "outputs_hidden": false
    }
   },
   "outputs": [],
   "source": [
    "with profiler.profile(profile_memory=True, record_shapes=True) as prof:\n",
    "    model(inputs)\n",
    "\n",
    "print(prof.key_averages().table(sort_by=\"self_cpu_memory_usage\", row_limit=10))\n",
    "\n",
    "# (omitting some columns)\n",
    "# ---------------------------  ---------------  ---------------  ---------------\n",
    "# Name                         CPU Mem          Self CPU Mem     Number of Calls\n",
    "# ---------------------------  ---------------  ---------------  ---------------\n",
    "# empty                        94.79 Mb         94.79 Mb         123\n",
    "# resize_                      11.48 Mb         11.48 Mb         2\n",
    "# addmm                        19.53 Kb         19.53 Kb         1\n",
    "# empty_strided                4 b              4 b              1\n",
    "# conv2d                       47.37 Mb         0 b              20\n",
    "# ---------------------------  ---------------  ---------------  ---------------\n",
    "\n",
    "print(prof.key_averages().table(sort_by=\"cpu_memory_usage\", row_limit=10))\n",
    "\n",
    "# (omitting some columns)\n",
    "# ---------------------------  ---------------  ---------------  ---------------\n",
    "# Name                         CPU Mem          Self CPU Mem     Number of Calls\n",
    "# ---------------------------  ---------------  ---------------  ---------------\n",
    "# empty                        94.79 Mb         94.79 Mb         123\n",
    "# batch_norm                   47.41 Mb         0 b              20\n",
    "# _batch_norm_impl_index       47.41 Mb         0 b              20\n",
    "# native_batch_norm            47.41 Mb         0 b              20\n",
    "# conv2d                       47.37 Mb         0 b              20\n",
    "# convolution                  47.37 Mb         0 b              20\n",
    "# _convolution                 47.37 Mb         0 b              20\n",
    "# mkldnn_convolution           47.37 Mb         0 b              20\n",
    "# empty_like                   47.37 Mb         0 b              20\n",
    "# max_pool2d                   11.48 Mb         0 b              1\n",
    "# max_pool2d_with_indices      11.48 Mb         0 b              1\n",
    "# resize_                      11.48 Mb         11.48 Mb         2\n",
    "# addmm                        19.53 Kb         19.53 Kb         1\n",
    "# adaptive_avg_pool2d          10.00 Kb         0 b              1\n",
    "# mean                         10.00 Kb         0 b              1\n",
    "# ---------------------------  ---------------  ---------------  ---------------"
   ]
  },
  {
   "cell_type": "markdown",
   "metadata": {},
   "source": [
    "5. Using tracing functionality\n",
    "~~~~~~~~~~~~~~~~~~~~~~~~~~~~~~~~~~~~~~~~~~~~~~~~~~~~~~\n",
    "\n",
    "Profiling results can be outputted as a .json trace file:\n",
    "\n"
   ]
  },
  {
   "cell_type": "code",
   "execution_count": 7,
   "metadata": {
    "collapsed": false,
    "jupyter": {
     "outputs_hidden": false
    }
   },
   "outputs": [],
   "source": [
    "with profiler.profile() as prof:\n",
    "    with profiler.record_function(\"model_inference\"):\n",
    "        model(inputs)\n",
    "\n",
    "prof.export_chrome_trace(\"trace.json\")"
   ]
  },
  {
   "cell_type": "code",
   "execution_count": 25,
   "metadata": {},
   "outputs": [],
   "source": [
    "# from torchvision.models import resnet50\n",
    "from thop import profile\n",
    "model = model.cuda()\n",
    "inputs = inputs.cuda()"
   ]
  },
  {
   "cell_type": "code",
   "execution_count": 26,
   "metadata": {},
   "outputs": [
    {
     "name": "stdout",
     "output_type": "stream",
     "text": [
      "[INFO] Register count_convNd() for <class 'torch.nn.modules.conv.Conv2d'>.\n",
      "[INFO] Register count_bn() for <class 'torch.nn.modules.batchnorm.BatchNorm2d'>.\n",
      "[INFO] Register zero_ops() for <class 'torch.nn.modules.activation.ReLU'>.\n",
      "[INFO] Register zero_ops() for <class 'torch.nn.modules.pooling.MaxPool2d'>.\n",
      "\u001b[91m[WARN] Cannot find rule for <class 'torchvision.models.resnet.BasicBlock'>. Treat it as zero Macs and zero Params.\u001b[00m\n",
      "\u001b[91m[WARN] Cannot find rule for <class 'torch.nn.modules.container.Sequential'>. Treat it as zero Macs and zero Params.\u001b[00m\n",
      "[INFO] Register count_adap_avgpool() for <class 'torch.nn.modules.pooling.AdaptiveAvgPool2d'>.\n",
      "[INFO] Register count_linear() for <class 'torch.nn.modules.linear.Linear'>.\n",
      "\u001b[91m[WARN] Cannot find rule for <class 'torchvision.models.resnet.ResNet'>. Treat it as zero Macs and zero Params.\u001b[00m\n"
     ]
    }
   ],
   "source": [
    "macs, params = profile(model, inputs=(inputs, ))\n",
    "from thop import clever_format\n",
    "macs, params = clever_format([macs, params], \"%.3f\")"
   ]
  },
  {
   "cell_type": "code",
   "execution_count": 29,
   "metadata": {},
   "outputs": [
    {
     "name": "stdout",
     "output_type": "stream",
     "text": [
      "123\n"
     ]
    }
   ],
   "source": [
    "p = lambda x: print(x)\n",
    "p(123)"
   ]
  },
  {
   "cell_type": "markdown",
   "metadata": {},
   "source": [
    "User can examine the sequence of profiled operators after loading the trace file\n",
    "in Chrome (``chrome://tracing``):\n",
    "\n",
    "![](../../_static/img/trace_img.png)\n",
    "\n",
    "   :scale: 25 %\n",
    "\n"
   ]
  },
  {
   "cell_type": "markdown",
   "metadata": {},
   "source": [
    "Learn More\n",
    "----------\n",
    "\n",
    "Take a look at the following recipes/tutorials to continue your learning:\n",
    "\n",
    "-  `PyTorch Benchmark <https://pytorch.org/tutorials/recipes/recipes/benchmark.html>`_\n",
    "-  `Visualizing models, data, and training with TensorBoard <https://pytorch.org/tutorials/intermediate/tensorboard_tutorial.html>`_ tutorial\n",
    "\n",
    "\n"
   ]
  }
 ],
 "metadata": {
  "kernelspec": {
   "display_name": "Python 3",
   "language": "python",
   "name": "python3"
  },
  "language_info": {
   "codemirror_mode": {
    "name": "ipython",
    "version": 3
   },
   "file_extension": ".py",
   "mimetype": "text/x-python",
   "name": "python",
   "nbconvert_exporter": "python",
   "pygments_lexer": "ipython3",
   "version": "3.8.3"
  }
 },
 "nbformat": 4,
 "nbformat_minor": 4
}
